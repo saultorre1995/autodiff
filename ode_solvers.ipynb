{
 "cells": [
  {
   "cell_type": "code",
   "execution_count": 1,
   "id": "f0a8205b",
   "metadata": {},
   "outputs": [],
   "source": [
    "import numpy as np\n",
    "import matplotlib.pyplot as plt"
   ]
  },
  {
   "cell_type": "code",
   "execution_count": 2,
   "id": "132c7e46",
   "metadata": {},
   "outputs": [],
   "source": [
    "# Single First Order Differential Equations"
   ]
  },
  {
   "cell_type": "code",
   "execution_count": 3,
   "id": "8a88410a",
   "metadata": {},
   "outputs": [],
   "source": [
    "def Euler_For(y0,t0,tf,h,fcn):\n",
    "    # fcn must be a function defined with two arguments (y(x),x)\n",
    "    # Just one variable\n",
    "    # Defines the Euler forward method for \n",
    "    # First order ODEs.\n",
    "    # Y'[t] ~ 1/h [Y(t+h)-Y(t) ]\n",
    "    # Y'[t] = f(tn,Y(tn))\n",
    "    # Y [tn+1] ~ Y[tn] +h f(tn,Y(tn))\n",
    "\n",
    "    #Start the algorithm\n",
    "    res=np.zeros(int((tf-t0)/h));\n",
    "    res[0]=y0;\n",
    "    t=t0+h;\n",
    "    #Loop over\n",
    "    for i in range(1,len(res)):\n",
    "        res[i] = res[i-1] + h * fcn(res[i-1],t);\n",
    "        t=t+h;\n",
    "    return res;"
   ]
  },
  {
   "cell_type": "code",
   "execution_count": 4,
   "id": "fcb6ded3",
   "metadata": {},
   "outputs": [
    {
     "data": {
      "text/plain": [
       "[]"
      ]
     },
     "execution_count": 4,
     "metadata": {},
     "output_type": "execute_result"
    },
    {
     "data": {
      "image/png": "[encoded data removed]",
      "text/plain": [
       "<Figure size 432x288 with 1 Axes>"
      ]
     },
     "metadata": {
      "needs_background": "light"
     },
     "output_type": "display_data"
    }
   ],
   "source": [
    "# Define a function f(y(t),) \n",
    "def myfunc(y,x):\n",
    "    return -y**2\n",
    "def realfx(x):\n",
    "    return 1/(x+1)\n",
    "# Comparison of the analytical and the Euler Forward result\n",
    "euler=Euler_For(y0=1.0,t0=0.0,tf=30.0,h=0.01,fcn=myfunc);\n",
    "plt.plot(np.arange(0.0,len(euler)*0.01,0.01),euler,linewidth=1.5,color=\"black\")\n",
    "plt.plot(np.arange(0.0,len(euler)*0.01,0.01),realfx(np.arange(0.0,len(euler)*0.01,0.01)),linestyle=\"-.\",color=\"yellow\")\n",
    "plt.plot()\n",
    "    "
   ]
  },
  {
   "cell_type": "markdown",
   "id": "ec83d193",
   "metadata": {},
   "source": [
    "# Analysis of the Error of the Euler method\n",
    "Y(t$_n$+1)= Y(t$_n$)+h*Y'(t$_n$)+h^2Y''($eps_n$)\n",
    "\n",
    "Propagation Error\n",
    "\n",
    "T$_{n+1}$=0.5 h² Y''(eps$_n$)\n",
    "   \n"
   ]
  },
  {
   "cell_type": "code",
   "execution_count": 12,
   "id": "7699bc98",
   "metadata": {},
   "outputs": [],
   "source": [
    "# Systems of Diferential Equations"
   ]
  },
  {
   "cell_type": "markdown",
   "id": "2841a819",
   "metadata": {},
   "source": [
    "# High Order Differential Equations\n",
    "\n",
    "Euler method\n",
    "\n",
    "Y''(t)=f(t,Y(t),Y'(t)) \n",
    "\n",
    "Two initial conditions\n",
    "\n",
    "Y(t$_0$)=Y$_0$, Y'(t$_0$)=Y'$_0$\n",
    "\n",
    "Change of Variable and convert to a first order system.\n",
    "\n",
    "Y$_1$'(t) = Y$_2$(t)  \n",
    "\n",
    "Y$_1$(t$_0$)=Y$_0$\n",
    "\n",
    "Y$_2$'(t)= f(t,Y$_1$(t),Y$_2$(t))\n",
    "\n",
    "Y$_2$(t$_0$)=Y$_0$'\n",
    "\n",
    "\n"
   ]
  },
  {
   "cell_type": "code",
   "execution_count": 6,
   "id": "8c344427",
   "metadata": {},
   "outputs": [],
   "source": [
    "# Second order Euler Method\n",
    "# I can be generalized to any order with the Eulers method\n",
    "def Euler_For_2ord(t0,y0,yk0,tf,h,fcn):\n",
    "    # Initialize the result array\n",
    "    res=np.zeros(int((tf-t0)/h))\n",
    "    res[0]=y0;\n",
    "    res[1]=y0+h*yk0;\n",
    "    t=t0+2*h;\n",
    "    # Loop over all the values\n",
    "    for i in range(2,len(res)):\n",
    "        der=(1/h)*(res[i-1]-res[i-2])\n",
    "        res[i]=2*res[i-1]-res[i-2]+h*h*fcn(der,res[i-2],t)\n",
    "        t=t+h;\n",
    "    return res;\n",
    "\n"
   ]
  },
  {
   "cell_type": "code",
   "execution_count": 7,
   "id": "310f1554",
   "metadata": {},
   "outputs": [],
   "source": [
    "# Euler Backward Method (absolutely stable)\n",
    "\n",
    "def Euler_Back(t0,y0,tf,h,fcn,tol=0.001,maxsteps=10):\n",
    "    # Now we solve the Euler Backward method\n",
    "    # tolerance (difference between recursive steps)\n",
    "    res=np.zeros(int((tf-t0)/h));\n",
    "    res[0]=y0;\n",
    "    t=t0+h;\n",
    "    for i in range(1,len(res)):\n",
    "        stit = res[i-1] + h * fcn(res[i-1],t);\n",
    "        # The starting tolerance\n",
    "        diff=1.0;\n",
    "        count=0;\n",
    "        while diff>tol and count<maxsteps:\n",
    "            nit = res[i-1]+h*fcn(stit,t);\n",
    "            # get the new diff\n",
    "            diff = abs(nit-stit);\n",
    "            count=count+1;\n",
    "        res[i]=nit;\n",
    "        t=t+h;\n",
    "        if count>=10:\n",
    "            print(\"Not converged after maxtsteps \"+str(maxsteps)+\" in the step \"+str(i) +\n",
    "                 \"\\n diff\"+str(diff));\n",
    "    return res; \n",
    "            \n",
    "# Need to get the error for the Euler approach"
   ]
  },
  {
   "cell_type": "code",
   "execution_count": 8,
   "id": "d337f1ce",
   "metadata": {},
   "outputs": [
    {
     "data": {
      "image/png": "[encoded data removed]",
      "text/plain": [
       "<Figure size 432x288 with 1 Axes>"
      ]
     },
     "metadata": {
      "needs_background": "light"
     },
     "output_type": "display_data"
    }
   ],
   "source": [
    "# Here I will try to solve exactly the same problem that with the Euler forward method\n",
    "\n",
    "def myfunc(y,x):\n",
    "    return -y**2\n",
    "\n",
    "def realfx(x):\n",
    "    return 1/(x+1)\n",
    "\n",
    "euler = Euler_Back(y0=1.0,t0=0.0,tf=30.0,h=0.001,fcn=myfunc,tol=0.001);\n",
    "plt.plot(np.arange(0.0,len(euler)*0.001,0.001),euler,linewidth=1.5,color=\"black\")\n",
    "plt.plot(np.arange(0.0,len(euler)*0.001,0.001),realfx(np.arange(0.0,len(euler)*0.001,0.001)),linestyle=\"-.\",color=\"yellow\")\n",
    "#plt.plot()\n",
    "plt.show()\n",
    "\n",
    "\n",
    "\n",
    "\n"
   ]
  },
  {
   "cell_type": "code",
   "execution_count": 9,
   "id": "69323072",
   "metadata": {
    "scrolled": true
   },
   "outputs": [
    {
     "data": {
      "image/png": "[encoded data removed]",
      "text/plain": [
       "<Figure size 432x288 with 1 Axes>"
      ]
     },
     "metadata": {
      "needs_background": "light"
     },
     "output_type": "display_data"
    }
   ],
   "source": [
    "# This is my Function defined for the second order Euler Method\n",
    "def myfun(yk,y,x):\n",
    "    return yk + y + 2*x +1;\n",
    "\n",
    "derivative=Euler_For_2ord(0.0,0.0,0.0,10.0,0.01,myfun)\n",
    "\n",
    "\n",
    "plt.plot(derivative)\n",
    "plt.show()"
   ]
  },
  {
   "cell_type": "markdown",
   "id": "4994837d",
   "metadata": {},
   "source": [
    "# Trapezoid Method \n",
    "It is based in the trapezoid integration that exposes that:\n",
    "\n",
    "$\\int_{a}^{b}Y(x) dx\\approx0.5\\cdot(b-a)\\cdot(Y(a) - Y(b))$\n",
    "\n",
    "$Y'( Y(x) , x )= F(Y(x),x)$\n",
    "\n",
    "We integrate this equation between x'+h and x' and we obtain the Trapezoid implicit formula\n",
    "\n",
    "$\\int_{x'}^{x'+h}Y'(x)dx=Y(x'+h)-Y(x')\\approx0.5(x'+h-x')(F(y(x'),x')+F(y(x'+h),x'+h)))$\n",
    "\n",
    "$Y(x'+h)=Y(x')+0.5(x'+h-x')(F(y(x'),x')+F(y(x'+h),x'+h)))$\n",
    "\n",
    "The implicit method can be expanded to the explicit with the next formula"
   ]
  },
  {
   "cell_type": "code",
   "execution_count": 10,
   "id": "99f46cf0",
   "metadata": {},
   "outputs": [],
   "source": [
    "# Explicit Trapezoidal Method (higher order of conversion):Just apply the trapezoid integral rule\n",
    "def Trapezoidal(t0,y0,tf,h,fcn,tol=0.001,maxsteps=100):\n",
    "    res = np.zeros(int((tf-t0)/h))\n",
    "    res[0]=y0;\n",
    "    t=t0;\n",
    "    # we need a predictor for the estimate (we use the Euler method)\n",
    "    for i in range(0,len(res)-1):\n",
    "        stit = res[i]+(h*fcn(res[i],t));\n",
    "        count=0;\n",
    "        diff=1;\n",
    "        while diff>tol and count<maxsteps:\n",
    "            # Here I calculate the stit\n",
    "            nit = res[i]+0.5*h*(fcn(res[i],t) + fcn(stit,t+h))\n",
    "            diff=abs(nit-stit)\n",
    "            stit=nit;\n",
    "            count=count+1;\n",
    "        res[i+1] = nit;\n",
    "        t=t+h;\n",
    "    if count>=maxsteps:\n",
    "        print(\"Not converged after maxtsteps \"+str(maxsteps)+\" in the step \"+str(i) +\n",
    "                 \"\\n diff\"+str(diff));\n",
    "    return res;\n",
    "    \n",
    "    \n"
   ]
  },
  {
   "cell_type": "code",
   "execution_count": 11,
   "id": "1e8c16be",
   "metadata": {},
   "outputs": [
    {
     "data": {
      "image/png": "[encoded data removed]",
      "text/plain": [
       "<Figure size 432x288 with 1 Axes>"
      ]
     },
     "metadata": {
      "needs_background": "light"
     },
     "output_type": "display_data"
    }
   ],
   "source": [
    "def myfunc(y,x):\n",
    "    return -y**2\n",
    "\n",
    "def realfx(x):\n",
    "    return 1/(x+1)\n",
    "\n",
    "h=0.001\n",
    "t0=0.0\n",
    "tf=30.0\n",
    "y0=1.0\n",
    "tol=0.001\n",
    "nsteps=int((tf-t0)/h)\n",
    "# Perform the Trap\n",
    "trap = Trapezoidal(y0=y0,t0=t0,tf=tf,h=h,fcn=myfunc,tol=tol);\n",
    "X=np.arange(0,nsteps)*0.001\n",
    "plt.plot(X,trap)\n",
    "plt.plot(X,realfx(X),linestyle=\"--\")\n",
    "plt.show()"
   ]
  },
  {
   "cell_type": "markdown",
   "id": "bdcc05e5",
   "metadata": {},
   "source": [
    "# Runge-Katta"
   ]
  },
  {
   "cell_type": "code",
   "execution_count": null,
   "id": "22e8a10e",
   "metadata": {},
   "outputs": [],
   "source": [
    "# Get the simplest Runge-Katta for the solving of easy\n",
    "def RK2():\n",
    "    pass"
   ]
  }
 ],
 "metadata": {
  "kernelspec": {
   "display_name": "Python 3",
   "language": "python",
   "name": "python3"
  },
  "language_info": {
   "codemirror_mode": {
    "name": "ipython",
    "version": 3
   },
   "file_extension": ".py",
   "mimetype": "text/x-python",
   "name": "python",
   "nbconvert_exporter": "python",
   "pygments_lexer": "ipython3",
   "version": "3.7.3"
  }
 },
 "nbformat": 4,
 "nbformat_minor": 5
}
